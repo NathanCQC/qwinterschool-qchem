{
 "cells": [
  {
   "cell_type": "markdown",
   "id": "635edb10",
   "metadata": {},
   "source": [
    "## Hartree-Fock using PySCF\n",
    "\n",
    "In the lectures we have covered the Hartree-Fock method of finding an approximation to the ground-state energy of the electrons in a molecule.  While it is theoretically possible to solve the relevant equations by hand, this is exceptionally long and tedious.  Instead, we typically use one of the many quantum chemistry packages which have been developed for the purpose of performing this procedure on a computer.  In this problem, we will use the pyscf package for this purpose.  First, we install the package (probably best to do this in a fresh environment):"
   ]
  },
  {
   "cell_type": "code",
   "execution_count": 1,
   "id": "0c1e6532",
   "metadata": {},
   "outputs": [
    {
     "name": "stdout",
     "output_type": "stream",
     "text": [
      "Collecting pyscf\n",
      "  Using cached pyscf-2.1.1.tar.gz (8.5 MB)\n",
      "  Preparing metadata (setup.py) ... \u001b[?25ldone\n",
      "\u001b[?25hRequirement already satisfied: numpy!=1.16,!=1.17,>=1.13 in /Users/nathanfitzpatric/opt/miniconda3/envs/inquanto-dev/lib/python3.9/site-packages (from pyscf) (1.23.3)\n",
      "Requirement already satisfied: scipy!=1.5.0,!=1.5.1 in /Users/nathanfitzpatric/opt/miniconda3/envs/inquanto-dev/lib/python3.9/site-packages (from pyscf) (1.9.1)\n",
      "Requirement already satisfied: h5py>=2.7 in /Users/nathanfitzpatric/opt/miniconda3/envs/inquanto-dev/lib/python3.9/site-packages (from pyscf) (3.7.0)\n",
      "Building wheels for collected packages: pyscf\n",
      "  Building wheel for pyscf (setup.py) ... \u001b[?25ldone\n",
      "\u001b[?25h  Created wheel for pyscf: filename=pyscf-2.1.1-cp39-cp39-macosx_11_0_arm64.whl size=53190929 sha256=dd23ef0c9ed6e966c3617b59e87783d601a11ed42d0bbd34be6dadb593d27e47\n",
      "  Stored in directory: /Users/nathanfitzpatric/Library/Caches/pip/wheels/71/48/52/37524c67675ed82f1da461bd14c9285c0e8b9fdc310734ed3b\n",
      "Successfully built pyscf\n",
      "Installing collected packages: pyscf\n",
      "Successfully installed pyscf-2.1.1\n",
      "\n",
      "\u001b[1m[\u001b[0m\u001b[34;49mnotice\u001b[0m\u001b[1;39;49m]\u001b[0m\u001b[39;49m A new release of pip available: \u001b[0m\u001b[31;49m22.3\u001b[0m\u001b[39;49m -> \u001b[0m\u001b[32;49m22.3.1\u001b[0m\n",
      "\u001b[1m[\u001b[0m\u001b[34;49mnotice\u001b[0m\u001b[1;39;49m]\u001b[0m\u001b[39;49m To update, run: \u001b[0m\u001b[32;49mpip install --upgrade pip\u001b[0m\n"
     ]
    }
   ],
   "source": [
    "import sys\n",
    "!{sys.executable} -m pip install pyscf\n",
    "import pyscf"
   ]
  },
  {
   "cell_type": "markdown",
   "id": "f560b339",
   "metadata": {},
   "source": [
    "We first need to tell PySCF what molecule we're interested in.  See if you can figure out what the two lines below mean:"
   ]
  },
  {
   "cell_type": "code",
   "execution_count": 11,
   "id": "952a2129",
   "metadata": {},
   "outputs": [],
   "source": [
    "geometry = 'H 0. 0. 0.; H 0. 0. 0.714'\n",
    "basis = 'STO-3G'\n",
    "spin = "
   ]
  },
  {
   "cell_type": "markdown",
   "id": "850fcaf4",
   "metadata": {},
   "source": [
    "Now we'll create the PySCF object which represents the molecule (don't ask us why the parameter is called \"atom\" instead of \"molecule)."
   ]
  },
  {
   "cell_type": "code",
   "execution_count": 20,
   "id": "1322cca5",
   "metadata": {},
   "outputs": [],
   "source": [
    "mol = pyscf.gto.M(atom = geometry, basis = basis)"
   ]
  },
  {
   "cell_type": "markdown",
   "id": "38b94ac0",
   "metadata": {},
   "source": [
    "This is all we'll need to be able to run a simple Hartree-Fock calculation.  Of course, there are many options to tweak how the process will run, but we'll ignore them for now.  To run Hartree-Fock, we create an scf.RHF object and then use the kernel method to get the energy (in Hartrees):"
   ]
  },
  {
   "cell_type": "code",
   "execution_count": 21,
   "id": "9222cf8e",
   "metadata": {},
   "outputs": [
    {
     "name": "stdout",
     "output_type": "stream",
     "text": [
      "<class 'pyscf.scf.hf.RHF'>\n",
      "converged SCF energy = -1.11750269105473\n",
      "-1.1175026910547303\n"
     ]
    }
   ],
   "source": [
    "hartree_fock = pyscf.scf.RHF(mol)\n",
    "print(type(hartree_fock))\n",
    "hf_energy = hartree_fock.kernel()\n",
    "print(hf_energy)"
   ]
  },
  {
   "cell_type": "code",
   "execution_count": 23,
   "id": "525bede9",
   "metadata": {},
   "outputs": [
    {
     "name": "stdout",
     "output_type": "stream",
     "text": [
      "converged SCF energy = -1.11750269105473\n"
     ]
    },
    {
     "data": {
      "text/plain": [
       "array([[[0.00056676, 0.00062612, 0.00068985, 0.00075804, 0.00083075,\n",
       "         0.00090802, 0.00098986, 0.00107623, 0.00116707, 0.00126225,\n",
       "         0.00136162, 0.00146499, 0.00157211, 0.00168269, 0.0017964 ,\n",
       "         0.00191284, 0.0020316 , 0.0021522 , 0.00227413, 0.00239683,\n",
       "         0.00251973, 0.0026422 , 0.00276361, 0.00288329, 0.00300057,\n",
       "         0.00311476, 0.00322518, 0.00333114, 0.00343196, 0.00352701,\n",
       "         0.00361565, 0.00369729, 0.00377136, 0.00383737, 0.00389484,\n",
       "         0.00394337, 0.00398263, 0.00401232, 0.00403223, 0.00404222,\n",
       "         0.00404222, 0.00403223, 0.00401232, 0.00398263, 0.00394337,\n",
       "         0.00389484, 0.00383737, 0.00377136, 0.00369729, 0.00361565,\n",
       "         0.00352701, 0.00343196, 0.00333114, 0.00322518, 0.00311476,\n",
       "         0.00300057, 0.00288329, 0.00276361, 0.0026422 , 0.00251973,\n",
       "         0.00239683, 0.00227413, 0.0021522 , 0.0020316 , 0.00191284,\n",
       "         0.0017964 , 0.00168269, 0.00157211, 0.00146499, 0.00136162,\n",
       "         0.00126225, 0.00116707, 0.00107623, 0.00098986, 0.00090802,\n",
       "         0.00083075, 0.00075804, 0.00068985, 0.00062612, 0.00056676]]])"
      ]
     },
     "execution_count": 23,
     "metadata": {},
     "output_type": "execute_result"
    }
   ],
   "source": [
    "from pyscf.tools import cubegen\n",
    "from pyscf import gto, scf\n",
    "\n",
    "mf = scf.RHF(mol).run()\n",
    "\n",
    "cubegen.density(mol, 'h2o_den.cube', mf.make_rdm1())\n",
    "\n",
    "# electron density slice\n",
    "cubegen.density(mol, 'h2o_den_slice.cube', mf.make_rdm1(), nx=1, ny=1, nz=80)\n",
    "\n",
    "# molecular electrostatic potential\n",
    "cubegen.mep(mol, 'h2o_pot.cube', mf.make_rdm1())\n",
    "\n",
    "# molecular electrostatic potential slice\n",
    "cubegen.mep(mol, 'h2o_pot_slice.cube', mf.make_rdm1(), nx=1, ny=1, nz=80)\n",
    "\n",
    "# 1st MO\n",
    "cubegen.orbital(mol, 'h2o_mo1.cube', mf.mo_coeff[:,0]).\n",
    "\n",
    "# 1st MO orbital slice\n",
    "cubegen.orbital(mol, 'h2o_mo1_slice.cube', mf.mo_coeff[:,0], nx=1, ny=1, nz=80)"
   ]
  },
  {
   "cell_type": "markdown",
   "id": "49763500",
   "metadata": {},
   "source": [
    "## Full configuration interaction with PySCF\n",
    "\n",
    "As we discussed in the lectures, Hartree-Fock is only one of many computational methods in chemistry to estimate the ground state energy of the electrons in a molecule.  There is typically a trade-off between the accuracy of the method, and the computational difficulty (though perhaps not the conceptual difficulty!).  \n",
    "\n",
    "In later lectures, we'll cover the Full Configuration Interaction method.  This is at the extreme end of the difficulty vs. accuracy method -- it is in fact an exact diagonalization of the electronic Hamiltonian.  As such, it is numerically exact, but exponentially hard (if it were not exponentially hard, we wouldn't need quantum computers and we'd be out of a job).  Due to the computational difficulty, it is not used much in earnest, but for small systems can be used as a benchmark for testing how accurate a computational method is.\n",
    "\n",
    "As we'll come on to in later lectures, FCI requires a *reference state* to start from.  This is an approximate solution to the ground state.  In this instance, we can use our Hartree-Fock solution:"
   ]
  },
  {
   "cell_type": "code",
   "execution_count": 8,
   "id": "9dbaba72",
   "metadata": {},
   "outputs": [],
   "source": [
    "from pyscf import fci\n",
    "full_configuration_interaction = pyscf.fci.FCI(hartree_fock)"
   ]
  },
  {
   "cell_type": "markdown",
   "id": "840a611e",
   "metadata": {},
   "source": [
    "Now we can just tell PySCF to run the FCI algorithm:"
   ]
  },
  {
   "cell_type": "code",
   "execution_count": 9,
   "id": "0768098f",
   "metadata": {},
   "outputs": [
    {
     "name": "stdout",
     "output_type": "stream",
     "text": [
      "-1.1369181758408116\n"
     ]
    }
   ],
   "source": [
    "full_configuration_interaction.run()\n",
    "fci_energy = full_configuration_interaction.kernel()[0]\n",
    "print(fci_energy)"
   ]
  },
  {
   "cell_type": "markdown",
   "id": "1d4328bf",
   "metadata": {},
   "source": [
    "We know that the FCI energy is exact.  So if we compare our Hartree-Fock energy against our FCI energy, we obtain the error caused by the approximations made in the Hartree-Fock procedure.  "
   ]
  },
  {
   "cell_type": "code",
   "execution_count": 10,
   "id": "4dd0f8f4",
   "metadata": {},
   "outputs": [
    {
     "name": "stdout",
     "output_type": "stream",
     "text": [
      "-0.01941548478608124\n"
     ]
    }
   ],
   "source": [
    "print(fci_energy-hf_energy)"
   ]
  },
  {
   "cell_type": "markdown",
   "id": "8d423569",
   "metadata": {},
   "source": [
    "Note how the FCI energy is lower than the HF energy, in agreement with the variational principle.  Also note that the error is actually quite small - it is common in chemistry for the error incurred by approximation to be maybe ~1% of the full energy, although this is very system dependent.  The danger is that these small errors can easily become large errors when propagated through a successor calculation."
   ]
  },
  {
   "cell_type": "code",
   "execution_count": null,
   "id": "088ceffd",
   "metadata": {},
   "outputs": [],
   "source": []
  }
 ],
 "metadata": {
  "kernelspec": {
   "display_name": "Python 3.9.13 ('inquanto-dev')",
   "language": "python",
   "name": "python3"
  },
  "language_info": {
   "codemirror_mode": {
    "name": "ipython",
    "version": 3
   },
   "file_extension": ".py",
   "mimetype": "text/x-python",
   "name": "python",
   "nbconvert_exporter": "python",
   "pygments_lexer": "ipython3",
   "version": "3.9.13"
  },
  "vscode": {
   "interpreter": {
    "hash": "c587e9c30b78c38c576cecc703b8dac6efb81c3ed6ecd4d56c6b4b90a025f909"
   }
  }
 },
 "nbformat": 4,
 "nbformat_minor": 5
}
