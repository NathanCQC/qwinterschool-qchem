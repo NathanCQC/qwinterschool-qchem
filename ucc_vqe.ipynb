{
 "cells": [
  {
   "cell_type": "markdown",
   "metadata": {},
   "source": [
    "# VQE for Unitary Coupled Cluster using tket"
   ]
  },
  {
   "cell_type": "markdown",
   "metadata": {},
   "source": [
    "In this tutorial, we will focus on:<br>\n",
    "- building parameterised ansätze for variational algorithms;<br>\n",
    "- compilation tools for UCC-style ansätze."
   ]
  },
  {
   "cell_type": "markdown",
   "metadata": {},
   "source": [
    "This example assumes the reader is familiar with the Variational Quantum Eigensolver and its application to electronic structure problems through the Unitary Coupled Cluster approach.<br>\n",
    "<br>\n",
    "To run this example, you will need `pytket` and `pytket-qiskit`, as well as `scipy` and `sympy`.<br>\n",
    "<br>\n",
    "We will start with a basic implementation and then gradually modify it to make it faster, more general, and less noisy. The final solution is given in full at the bottom of the notebook.<br>\n",
    "<br>\n",
    "Suppose we have some electronic configuration problem, expressed via a physical Hamiltonian. (The Hamiltonian and excitations in this example were obtained using `qiskit-aqua` version 0.5.2 and `pyscf` for H2, bond length 0.75A, sto3g basis, Jordan-Wigner encoding, with no qubit reduction or orbital freezing.). We express it succinctly using the `pytket` `QubitPauliOperator` class:"
   ]
  },
  {
   "cell_type": "code",
   "execution_count": null,
   "metadata": {},
   "outputs": [],
   "source": [
    "from pytket.utils.operators import QubitPauliOperator\n",
    "from pytket.circuit import Qubit\n",
    "from pytket.pauli import Pauli, QubitPauliString"
   ]
  },
  {
   "cell_type": "markdown",
   "metadata": {},
   "source": [
    "## Qubit H2 Hamiltonian\n",
    "- This is the Qubit Hamiltonian mapped from the fermionic Hamiltonian under the JW transform \n",
    "\n",
    "$$\n",
    "a^\\dagger_j = \\bigotimes^{j-1}_i l_i^z \\bigotimes \\frac{1}{2}(\\sigma^\\mathbf{x}_j - i\\sigma^y_j)\n",
    "$$\n",
    "\n",
    "$$\n",
    "a_j = \\bigotimes^{j-1}_i \\sigma_i^z \\bigotimes \\frac{1}{2}(\\sigma^\\mathbf{x}_j + i\\sigma^y_j)\n",
    "$$\n"
   ]
  },
  {
   "cell_type": "code",
   "execution_count": null,
   "metadata": {},
   "outputs": [],
   "source": [
    "hamiltonian_op = QubitPauliOperator(\n",
    "    {\n",
    "        QubitPauliString(): -0.8153001706270075,\n",
    "        QubitPauliString({Qubit(0): Pauli.Z}): 0.16988452027940318,\n",
    "        QubitPauliString({Qubit(1): Pauli.Z}): -0.21886306781219608,\n",
    "        QubitPauliString({Qubit(2): Pauli.Z}): 0.16988452027940323,\n",
    "        QubitPauliString({Qubit(3): Pauli.Z}): -0.2188630678121961,\n",
    "        QubitPauliString({Qubit(0): Pauli.Z, Qubit(1): Pauli.Z}): 0.12005143072546047,\n",
    "        QubitPauliString({Qubit(0): Pauli.Z, Qubit(2): Pauli.Z}): 0.16821198673715723,\n",
    "        QubitPauliString({Qubit(0): Pauli.Z, Qubit(3): Pauli.Z}): 0.16549431486978672,\n",
    "        QubitPauliString({Qubit(1): Pauli.Z, Qubit(2): Pauli.Z}): 0.16549431486978672,\n",
    "        QubitPauliString({Qubit(1): Pauli.Z, Qubit(3): Pauli.Z}): 0.1739537877649417,\n",
    "        QubitPauliString({Qubit(2): Pauli.Z, Qubit(3): Pauli.Z}): 0.12005143072546047,\n",
    "        QubitPauliString({Qubit(0): Pauli.X, Qubit(1): Pauli.X, Qubit(2): Pauli.X, Qubit(3): Pauli.X}): 0.04544288414432624,\n",
    "        QubitPauliString({Qubit(0): Pauli.X, Qubit(1): Pauli.X, Qubit(2): Pauli.Y, Qubit(3): Pauli.Y}): 0.04544288414432624,\n",
    "        QubitPauliString({Qubit(0): Pauli.Y, Qubit(1): Pauli.Y, Qubit(2): Pauli.X, Qubit(3): Pauli.X}): 0.04544288414432624,\n",
    "        QubitPauliString({Qubit(0): Pauli.Y, Qubit(1): Pauli.Y, Qubit(2): Pauli.Y, Qubit(3): Pauli.Y}): 0.04544288414432624\n",
    "    }\n",
    ")\n",
    "nuclear_repulsion_energy = 0.70556961456"
   ]
  },
  {
   "cell_type": "markdown",
   "metadata": {},
   "source": [
    "Pytket `QubitPauliOperator`"
   ]
  },
  {
   "cell_type": "code",
   "execution_count": null,
   "metadata": {},
   "outputs": [],
   "source": [
    "hamiltonian_op"
   ]
  },
  {
   "cell_type": "markdown",
   "metadata": {},
   "source": [
    "We would like to define our ansatz for arbitrary parameter values.\n",
    "\n",
    "The UCC ansatz is derived from the electronic configuration. It sacrifices efficiency of the circuit for the guarantee of physical states and the variational parameters all having some meaningful effect, which helps the classical optimisation to converge.<br>\n",
    "<br>\n",
    "This starts by defining the terms of our single and double excitations. These would usually be generated using the orbital configurations, so we will just use a hard-coded example here for the purposes of demonstration."
   ]
  },
  {
   "cell_type": "markdown",
   "metadata": {},
   "source": [
    "Single excitations after JW\n",
    "$$\n",
    "t_{i\\alpha}(a^\\dagger_i a_a - a^\\dagger_a a_i) = \\frac{it_{i\\alpha}}{2} \\bigotimes_{k=i+1}^{\\alpha-1} \\sigma^z_k(\\sigma^y_i\\sigma^\\mathbf{x}_\\alpha - \\sigma^\\mathbf{x}_i\\sigma^y_\\alpha)\n",
    "$$\n",
    "\n",
    "Double excitations after JW Mapping\n",
    "\n",
    "$$\n",
    "\\begin{split}\n",
    "t_{ij\\alpha\\beta}(a^\\dagger_\\alpha a^\\dagger_\\beta a_i a_j - a^\\dagger_j a^\\dagger_i a_\\alpha a_\\beta) =& \\frac{it_{i\\alpha}}{8}  \\bigotimes_{k=i+1}^{j-1} \\sigma^z_k  \\bigotimes_{l=\\alpha+1}^{\\beta-1} \\sigma^z_l \\\\\n",
    "&(\\sigma^\\mathbf{x}_i \\sigma^\\mathbf{x}_j \\sigma^y_\\alpha \\sigma^\\mathbf{x}_\\beta + \\sigma^y_i \\sigma^\\mathbf{x}_j \\sigma^y_\\alpha \\sigma^y_\\beta \\\\\n",
    "&+\\sigma^\\mathbf{x}_i \\sigma^y_j \\sigma^y_\\alpha \\sigma^y_\\beta + \\sigma^\\mathbf{x}_i \\sigma^\\mathbf{x}_j \\sigma^\\mathbf{x}_\\alpha \\sigma^y_\\beta \\\\\n",
    "&- \\sigma^y_i \\sigma^\\mathbf{x}_j \\sigma^\\mathbf{x}_\\alpha \\sigma^\\mathbf{x}_\\beta - \\sigma^\\mathbf{x}_i \\sigma^y_j \\sigma^\\mathbf{x}_\\alpha \\sigma^\\mathbf{x}_\\beta\\\\\n",
    "&- \\sigma^y_i \\sigma^y_j \\sigma^y_\\alpha \\sigma^\\mathbf{x}_\\beta - \\sigma^y_i \\sigma^y_j \\sigma^\\mathbf{x}_\\alpha \\sigma^y_\\beta )\\\\\n",
    "\\end{split}\n",
    "$$"
   ]
  },
  {
   "cell_type": "code",
   "execution_count": null,
   "metadata": {},
   "outputs": [],
   "source": [
    "q = [Qubit(i) for i in range(4)]\n",
    "xyii = QubitPauliString([q[0], q[1]], [Pauli.X, Pauli.Y])\n",
    "yxii = QubitPauliString([q[0], q[1]], [Pauli.Y, Pauli.X])\n",
    "iixy = QubitPauliString([q[2], q[3]], [Pauli.X, Pauli.Y])\n",
    "iiyx = QubitPauliString([q[2], q[3]], [Pauli.Y, Pauli.X])\n",
    "xxxy = QubitPauliString(q, [Pauli.X, Pauli.X, Pauli.X, Pauli.Y])\n",
    "xxyx = QubitPauliString(q, [Pauli.X, Pauli.X, Pauli.Y, Pauli.X])\n",
    "xyxx = QubitPauliString(q, [Pauli.X, Pauli.Y, Pauli.X, Pauli.X])\n",
    "yxxx = QubitPauliString(q, [Pauli.Y, Pauli.X, Pauli.X, Pauli.X])\n",
    "yyyx = QubitPauliString(q, [Pauli.Y, Pauli.Y, Pauli.Y, Pauli.X])\n",
    "yyxy = QubitPauliString(q, [Pauli.Y, Pauli.Y, Pauli.X, Pauli.Y])\n",
    "yxyy = QubitPauliString(q, [Pauli.Y, Pauli.X, Pauli.Y, Pauli.Y])\n",
    "xyyy = QubitPauliString(q, [Pauli.X, Pauli.Y, Pauli.Y, Pauli.Y])"
   ]
  },
  {
   "cell_type": "code",
   "execution_count": null,
   "metadata": {},
   "outputs": [],
   "source": [
    "singles_a = {xyii: 1.0, yxii: -1.0}\n",
    "singles_b = {iixy: 1.0, iiyx: -1.0}\n",
    "doubles = {\n",
    "    xxxy: 0.25,\n",
    "    xxyx: -0.25,\n",
    "    xyxx: 0.25,\n",
    "    yxxx: -0.25,\n",
    "    yyyx: -0.25,\n",
    "    yyxy: 0.25,\n",
    "    yxyy: -0.25,\n",
    "    xyyy: 0.25,\n",
    "}"
   ]
  },
  {
   "cell_type": "markdown",
   "metadata": {},
   "source": [
    "Building the ansatz circuit itself is often done naively by defining the map from each term down to basic gates and then applying it to each term."
   ]
  },
  {
   "cell_type": "markdown",
   "metadata": {},
   "source": [
    "Task: Plot this circuit with pytket. What is it doing?\n",
    "- Identify the basis rotations\n",
    "- Identify the ZZ..Z operations\n",
    "- Prove to yourself that these are indeed a parity check and can be used in a pauli gadget"
   ]
  },
  {
   "cell_type": "code",
   "execution_count": null,
   "metadata": {},
   "outputs": [],
   "source": [
    "from pytket import Circuit\n",
    "def add_operator_term(circuit: Circuit, term: QubitPauliString, angle: float):\n",
    "    qubits = []\n",
    "    for q, p in term.map.items():\n",
    "        if p != Pauli.I:\n",
    "            qubits.append(q)\n",
    "            if p == Pauli.X:\n",
    "                circuit.H(q)\n",
    "            elif p == Pauli.Y:\n",
    "                circuit.V(q)\n",
    "    for i in range(len(qubits) - 1):\n",
    "        circuit.CX(i, i + 1)\n",
    "    circuit.Rz(angle, len(qubits) - 1)\n",
    "    for i in reversed(range(len(qubits) - 1)):\n",
    "        circuit.CX(i, i + 1)\n",
    "    for q, p in term.map.items():\n",
    "        if p == Pauli.X:\n",
    "            circuit.H(q)\n",
    "        elif p == Pauli.Y:\n",
    "            circuit.Vdg(q)"
   ]
  },
  {
   "cell_type": "markdown",
   "metadata": {},
   "source": [
    "Task: Rewrite this circuit as a custom CircBox"
   ]
  },
  {
   "cell_type": "markdown",
   "metadata": {},
   "source": [
    "Unitary Coupled Cluster Singles & Doubles ansatz:"
   ]
  },
  {
   "cell_type": "markdown",
   "metadata": {},
   "source": [
    "- What happens if we had higher excitations?\n",
    "- is this a good strategy for quantum computing?\n",
    "- Would you use UCC over another ansatz such as the Hardward efficent ansatz"
   ]
  },
  {
   "cell_type": "code",
   "execution_count": null,
   "metadata": {},
   "outputs": [],
   "source": [
    "def ucc(params):\n",
    "    ansatz = Circuit(4)\n",
    "    # Set initial reference state\n",
    "    ansatz.X(1).X(3)\n",
    "    # Evolve by excitations\n",
    "    for term, coeff in singles_a.items():\n",
    "        add_operator_term(ansatz, term, coeff * params[0])\n",
    "    for term, coeff in singles_b.items():\n",
    "        add_operator_term(ansatz, term, coeff * params[1])\n",
    "    for term, coeff in doubles.items():\n",
    "        add_operator_term(ansatz, term, coeff * params[2])\n",
    "    return ansatz"
   ]
  },
  {
   "cell_type": "markdown",
   "metadata": {},
   "source": [
    "This is already quite verbose, but `pytket` has a neat shorthand construction for these operator terms using the `PauliExpBox` construction. We can then decompose these into basic gates using the `DecomposeBoxes` compiler pass."
   ]
  },
  {
   "cell_type": "code",
   "execution_count": null,
   "metadata": {},
   "outputs": [],
   "source": [
    "from pytket.circuit import PauliExpBox\n",
    "from pytket.passes import DecomposeBoxes"
   ]
  },
  {
   "cell_type": "code",
   "execution_count": null,
   "metadata": {},
   "outputs": [],
   "source": [
    "def add_excitation(circ, term_dict, param):\n",
    "    for term, coeff in term_dict.items():\n",
    "        qubits, paulis = zip(*term.map.items())\n",
    "        pbox = PauliExpBox(paulis, coeff * param)\n",
    "        circ.add_pauliexpbox(pbox, qubits)"
   ]
  },
  {
   "cell_type": "markdown",
   "metadata": {},
   "source": [
    "UCC ansatz with syntactic shortcuts:"
   ]
  },
  {
   "cell_type": "code",
   "execution_count": null,
   "metadata": {},
   "outputs": [],
   "source": [
    "def ucc(params):\n",
    "    ansatz = Circuit(4)\n",
    "    ansatz.X(1).X(3)\n",
    "    add_excitation(ansatz, singles_a, params[0])\n",
    "    add_excitation(ansatz, singles_b, params[1])\n",
    "    add_excitation(ansatz, doubles, params[2])\n",
    "    DecomposeBoxes().apply(ansatz)\n",
    "    return ansatz"
   ]
  },
  {
   "cell_type": "markdown",
   "metadata": {},
   "source": [
    "Let's visualise out ansatz circuit to see the famous \"Pauli gadgets\"."
   ]
  },
  {
   "cell_type": "code",
   "execution_count": null,
   "metadata": {},
   "outputs": [],
   "source": [
    "from pytket.circuit.display import render_circuit_jupyter\n",
    "render_circuit_jupyter(ucc([-3.79002933e-05, 2.42964799e-05, 4.63447157e-01]))"
   ]
  },
  {
   "cell_type": "markdown",
   "metadata": {},
   "source": [
    "The objective function can now be written using a utility method for constructing the measurement circuits and processing for expectation value calculations. For that, we need the Hamiltonian generated above."
   ]
  },
  {
   "cell_type": "markdown",
   "metadata": {},
   "source": [
    "Simplified objective function using utilities:"
   ]
  },
  {
   "cell_type": "markdown",
   "metadata": {},
   "source": [
    "# VQE calculation"
   ]
  },
  {
   "cell_type": "markdown",
   "metadata": {},
   "source": [
    "- Look at the get operator expectation function in pytket and identify where it s doing the parity checks"
   ]
  },
  {
   "cell_type": "code",
   "execution_count": null,
   "metadata": {},
   "outputs": [],
   "source": [
    "from pytket.utils import get_operator_expectation_value"
   ]
  },
  {
   "cell_type": "code",
   "execution_count": null,
   "metadata": {},
   "outputs": [],
   "source": [
    "def objective(params):\n",
    "    circ = ucc(params)\n",
    "    return (\n",
    "        get_operator_expectation_value(circ, hamiltonian_op, backend, n_shots=4000)\n",
    "        + nuclear_repulsion_energy\n",
    "    )"
   ]
  },
  {
   "cell_type": "markdown",
   "metadata": {},
   "source": [
    "- Optimal values"
   ]
  },
  {
   "cell_type": "code",
   "execution_count": null,
   "metadata": {},
   "outputs": [],
   "source": [
    "arg_values = [-3.79002933e-05, 2.42964799e-05, 4.63447157e-01]"
   ]
  },
  {
   "cell_type": "code",
   "execution_count": null,
   "metadata": {},
   "outputs": [],
   "source": [
    "from pytket.extensions.qiskit import AerBackend\n",
    "backend = AerBackend()"
   ]
  },
  {
   "cell_type": "code",
   "execution_count": null,
   "metadata": {},
   "outputs": [],
   "source": [
    "energy = objective(arg_values)\n",
    "print(energy)"
   ]
  },
  {
   "cell_type": "markdown",
   "metadata": {},
   "source": [
    "This is now the simplest form that this operation can take, but it isn't necessarily the most effective. When we decompose the ansatz circuit into basic gates, it is still very expensive. We can employ some of the circuit simplification passes available in `pytket` to reduce its size and improve fidelity in practice.<br>\n",
    "<br>\n",
    "A good example is to decompose each `PauliExpBox` into basic gates and then apply `FullPeepholeOptimise`, which defines a compilation strategy utilising all of the simplifications in `pytket` that act locally on small regions of a circuit. We can examine the effectiveness by looking at the number of two-qubit gates before and after simplification, which tends to be a good indicator of fidelity for near-term systems where these gates are often slow and inaccurate."
   ]
  },
  {
   "cell_type": "code",
   "execution_count": null,
   "metadata": {},
   "outputs": [],
   "source": [
    "from pytket import OpType\n",
    "from pytket.passes import FullPeepholeOptimise"
   ]
  },
  {
   "cell_type": "code",
   "execution_count": null,
   "metadata": {},
   "outputs": [],
   "source": [
    "test_circuit = ucc(arg_values)"
   ]
  },
  {
   "cell_type": "code",
   "execution_count": null,
   "metadata": {},
   "outputs": [],
   "source": [
    "print(\"CX count before\", test_circuit.n_gates_of_type(OpType.CX))\n",
    "print(\"CX depth before\", test_circuit.depth_by_type(OpType.CX))"
   ]
  },
  {
   "cell_type": "code",
   "execution_count": null,
   "metadata": {},
   "outputs": [],
   "source": [
    "FullPeepholeOptimise().apply(test_circuit)"
   ]
  },
  {
   "cell_type": "code",
   "execution_count": null,
   "metadata": {},
   "outputs": [],
   "source": [
    "print(\"CX count after FPO\", test_circuit.n_gates_of_type(OpType.CX))\n",
    "print(\"CX depth after FPO\", test_circuit.depth_by_type(OpType.CX))"
   ]
  },
  {
   "cell_type": "markdown",
   "metadata": {},
   "source": [
    "These simplification techniques are very general and are almost always beneficial to apply to a circuit if you want to eliminate local redundancies. But UCC ansätze have extra structure that we can exploit further. They are defined entirely out of exponentiated tensors of Pauli matrices, giving the regular structure described by the `PauliExpBox`es. Under many circumstances, it is more efficient to not synthesise these constructions individually, but simultaneously in groups. The `PauliSimp` pass finds the description of a given circuit as a sequence of `PauliExpBox`es and resynthesises them (by default, in groups of commuting terms). This can cause great change in the overall structure and shape of the circuit, enabling the identification and elimination of non-local redundancy."
   ]
  },
  {
   "cell_type": "code",
   "execution_count": null,
   "metadata": {},
   "outputs": [],
   "source": [
    "from pytket.passes import PauliSimp"
   ]
  },
  {
   "cell_type": "code",
   "execution_count": null,
   "metadata": {},
   "outputs": [],
   "source": [
    "test_circuit = ucc(arg_values)"
   ]
  },
  {
   "cell_type": "code",
   "execution_count": null,
   "metadata": {},
   "outputs": [],
   "source": [
    "print(\"CX count before\", test_circuit.n_gates_of_type(OpType.CX))\n",
    "print(\"CX depth before\", test_circuit.depth_by_type(OpType.CX))"
   ]
  },
  {
   "cell_type": "code",
   "execution_count": null,
   "metadata": {},
   "outputs": [],
   "source": [
    "PauliSimp().apply(test_circuit)"
   ]
  },
  {
   "cell_type": "code",
   "execution_count": null,
   "metadata": {},
   "outputs": [],
   "source": [
    "print(\"CX count after PS\", test_circuit.n_gates_of_type(OpType.CX))\n",
    "print(\"CX depth after PS\", test_circuit.depth_by_type(OpType.CX))"
   ]
  },
  {
   "cell_type": "code",
   "execution_count": null,
   "metadata": {},
   "outputs": [],
   "source": [
    "FullPeepholeOptimise().apply(test_circuit)"
   ]
  },
  {
   "cell_type": "code",
   "execution_count": null,
   "metadata": {},
   "outputs": [],
   "source": [
    "print(\"CX count after PS+FPO\", test_circuit.n_gates_of_type(OpType.CX))\n",
    "print(\"CX depth after PS+FPO\", test_circuit.depth_by_type(OpType.CX))"
   ]
  },
  {
   "cell_type": "markdown",
   "metadata": {},
   "source": [
    "To include this into our routines, we can just add the simplification passes to the objective function. The `get_operator_expectation_value` utility handles compiling to meet the requirements of the backend, so we don't have to worry about that here."
   ]
  },
  {
   "cell_type": "markdown",
   "metadata": {},
   "source": [
    "Objective function with circuit simplification:"
   ]
  },
  {
   "cell_type": "code",
   "execution_count": null,
   "metadata": {},
   "outputs": [],
   "source": [
    "def objective(params):\n",
    "    circ = ucc(params)\n",
    "    PauliSimp().apply(circ)\n",
    "    FullPeepholeOptimise().apply(circ)\n",
    "    return (\n",
    "        get_operator_expectation_value(circ, hamiltonian_op, backend, n_shots=4000)\n",
    "        + nuclear_repulsion_energy\n",
    "    )"
   ]
  },
  {
   "cell_type": "markdown",
   "metadata": {},
   "source": [
    "These circuit simplification techniques have tried to preserve the exact unitary of the circuit, but there are ways to change the unitary whilst preserving the correctness of the algorithm as a whole.<br>\n",
    "<br>\n",
    "For example, the excitation terms are generated by trotterisation of the excitation operator, and the order of the terms does not change the unitary in the limit of many trotter steps, so in this sense we are free to sequence the terms how we like and it is sensible to do this in a way that enables efficient synthesis of the circuit. Prioritising collecting terms into commuting sets is a very beneficial heuristic for this and can be performed using the `gen_term_sequence_circuit` method to group the terms together into collections of `PauliExpBox`es and the `GuidedPauliSimp` pass to utilise these sets for synthesis."
   ]
  },
  {
   "cell_type": "code",
   "execution_count": null,
   "metadata": {},
   "outputs": [],
   "source": [
    "from pytket.passes import GuidedPauliSimp\n",
    "from pytket.utils import gen_term_sequence_circuit"
   ]
  },
  {
   "cell_type": "code",
   "execution_count": null,
   "metadata": {},
   "outputs": [],
   "source": [
    "def ucc(params):\n",
    "    singles_params = {qps: params[0] * coeff for qps, coeff in singles.items()}\n",
    "    doubles_params = {qps: params[1] * coeff for qps, coeff in doubles.items()}\n",
    "    excitation_op = QubitPauliOperator({**singles_params, **doubles_params})\n",
    "    reference_circ = Circuit(4).X(1).X(3)\n",
    "    ansatz = gen_term_sequence_circuit(excitation_op, reference_circ)\n",
    "    GuidedPauliSimp().apply(ansatz)\n",
    "    FullPeepholeOptimise().apply(ansatz)\n",
    "    return ansatz"
   ]
  },
  {
   "cell_type": "markdown",
   "metadata": {},
   "source": [
    "Adding these simplification routines doesn't come for free. Compiling and simplifying the circuit to achieve the best results possible can be a difficult task, which can take some time for the classical computer to perform.<br>\n",
    "<br>\n",
    "During a VQE run, we will call this objective function many times and run many measurement circuits within each, but the circuits that are run on the quantum computer are almost identical, having the same gate structure but with different gate parameters and measurements. We have already exploited this within the body of the objective function by simplifying the ansatz circuit before we call `get_operator_expectation_value`, so it is only done once per objective calculation rather than once per measurement circuit.<br>\n",
    "<br>\n",
    "We can go even further by simplifying it once outside of the objective function, and then instantiating the simplified ansatz with the parameter values needed. For this, we will construct the UCC ansatz circuit using symbolic (parametric) gates."
   ]
  },
  {
   "cell_type": "code",
   "execution_count": null,
   "metadata": {},
   "outputs": [],
   "source": [
    "from sympy import symbols"
   ]
  },
  {
   "cell_type": "markdown",
   "metadata": {},
   "source": [
    "Symbolic UCC ansatz generation:"
   ]
  },
  {
   "cell_type": "code",
   "execution_count": null,
   "metadata": {},
   "outputs": [],
   "source": [
    "syms = symbols(\"p0 p1 p2\")\n",
    "singles_a_syms = {qps: syms[0] * coeff for qps, coeff in singles_a.items()}\n",
    "singles_b_syms = {qps: syms[1] * coeff for qps, coeff in singles_b.items()}\n",
    "doubles_syms = {qps: syms[2] * coeff for qps, coeff in doubles.items()}\n",
    "excitation_op = QubitPauliOperator({**singles_a_syms, **singles_b_syms, **doubles_syms})\n",
    "ucc_ref = Circuit(4).X(1).X(3)\n",
    "ucc = gen_term_sequence_circuit(excitation_op, ucc_ref)\n",
    "GuidedPauliSimp().apply(ucc)\n",
    "FullPeepholeOptimise().apply(ucc)"
   ]
  },
  {
   "cell_type": "markdown",
   "metadata": {},
   "source": [
    "Objective function using the symbolic ansatz:"
   ]
  },
  {
   "cell_type": "code",
   "execution_count": null,
   "metadata": {},
   "outputs": [],
   "source": [
    "def objective(params):\n",
    "    circ = ucc.copy()\n",
    "    sym_map = dict(zip(syms, params))\n",
    "    circ.symbol_substitution(sym_map)\n",
    "    return (\n",
    "        get_operator_expectation_value(circ, hamiltonian_op, backend, n_shots=4000)\n",
    "        + nuclear_repulsion_energy\n",
    "    )"
   ]
  },
  {
   "cell_type": "markdown",
   "metadata": {},
   "source": [
    "We have now got some very good use of `pytket` for simplifying each individual circuit used in our experiment and for minimising the amount of time spent compiling, but there is still more we can do in terms of reducing the amount of work the quantum computer has to do. Currently, each (non-trivial) term in our measurement hamiltonian is measured by a different circuit within each expectation value calculation. Measurement reduction techniques exist for identifying when these observables commute and hence can be simultaneously measured, reducing the number of circuits required for the full expectation value calculation.<br>\n",
    "<br>\n",
    "This is built in to the `get_operator_expectation_value` method and can be applied by specifying a way to partition the measuremrnt terms. `PauliPartitionStrat.CommutingSets` can greatly reduce the number of measurement circuits by combining any number of terms that mutually commute. However, this involves potentially adding an arbitrary Clifford circuit to change the basis of the measurements which can be costly on NISQ devices, so `PauliPartitionStrat.NonConflictingSets` trades off some of the reduction in circuit number to guarantee that only single-qubit gates are introduced."
   ]
  },
  {
   "cell_type": "code",
   "execution_count": null,
   "metadata": {},
   "outputs": [],
   "source": [
    "from pytket.partition import PauliPartitionStrat"
   ]
  },
  {
   "cell_type": "markdown",
   "metadata": {},
   "source": [
    "Objective function using measurement reduction:"
   ]
  },
  {
   "cell_type": "code",
   "execution_count": null,
   "metadata": {},
   "outputs": [],
   "source": [
    "def objective(params):\n",
    "    circ = ucc.copy()\n",
    "    sym_map = dict(zip(syms, params))\n",
    "    circ.symbol_substitution(sym_map)\n",
    "    return (\n",
    "        get_operator_expectation_value(\n",
    "            circ,\n",
    "            operator,\n",
    "            backend,\n",
    "            n_shots=4000,\n",
    "            partition_strat=PauliPartitionStrat.CommutingSets,\n",
    "        )\n",
    "        + nuclear_repulsion_energy\n",
    "    )"
   ]
  },
  {
   "cell_type": "markdown",
   "metadata": {},
   "source": [
    "At this point, we have completely transformed how our VQE objective function works, improving its resilience to noise, cutting the number of circuits run, and maintaining fast runtimes. In doing this, we have explored a number of the features `pytket` offers that are beneficial to VQE and the UCC method:<br>\n",
    "- high-level syntactic constructs for evolution operators;<br>\n",
    "- utility methods for easy expectation value calculations;<br>\n",
    "- both generic and domain-specific circuit simplification methods;<br>\n",
    "- symbolic circuit compilation;<br>\n",
    "- measurement reduction for expectation value calculations."
   ]
  },
  {
   "cell_type": "markdown",
   "metadata": {},
   "source": [
    "Exercises:<br>\n",
    "- Replace the `get_operator_expectation_value` call with its implementation and use this to pull the analysis for measurement reduction outside of the objective function, so our circuits can be fully determined and compiled once. This means that the `symbol_substitution` method will need to be applied to each measurement circuit instead of just the state preparation circuit.<br>\n",
    "- Use the `SpamCorrecter` class to add some mitigation of the measurement errors. Start by running the characterisation circuits first, before your main VQE loop, then apply the mitigation to each of the circuits run within the objective function.<br>\n",
    "- Change the `backend` by passing in a `Qiskit` `NoiseModel` to simulate a noisy device. Compare the accuracy of the objective function both with and without the circuit simplification. Try running a classical optimiser over the objective function and compare the convergence rates with different noise models. If you have access to a QPU, try changing the `backend` to connect to that and compare the results to the simulator."
   ]
  }
 ],
 "metadata": {
  "kernelspec": {
   "display_name": "Python 3.9.13 ('inquanto-dev')",
   "language": "python",
   "name": "python3"
  },
  "language_info": {
   "codemirror_mode": {
    "name": "ipython",
    "version": 3
   },
   "file_extension": ".py",
   "mimetype": "text/x-python",
   "name": "python",
   "nbconvert_exporter": "python",
   "pygments_lexer": "ipython3",
   "version": "3.9.13"
  },
  "vscode": {
   "interpreter": {
    "hash": "c587e9c30b78c38c576cecc703b8dac6efb81c3ed6ecd4d56c6b4b90a025f909"
   }
  }
 },
 "nbformat": 4,
 "nbformat_minor": 2
}
