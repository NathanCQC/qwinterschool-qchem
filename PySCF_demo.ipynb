{
 "cells": [
  {
   "cell_type": "markdown",
   "id": "635edb10",
   "metadata": {},
   "source": [
    "## Hartree-Fock using PySCF\n",
    "\n",
    "In the lectures we have covered the Hartree-Fock method of finding an approximation to the ground-state energy of the electrons in a molecule.  While it is theoretically possible to solve the relevant equations by hand, this is exceptionally long and tedious.  Instead, we typically use one of the many quantum chemistry packages which have been developed for the purpose of performing this procedure on a computer.  In this problem, we will use the pyscf package for this purpose.  First, we install the package (probably best to do this in a fresh environment):"
   ]
  },
  {
   "cell_type": "code",
   "execution_count": 1,
   "id": "0c1e6532",
   "metadata": {},
   "outputs": [
    {
     "name": "stdout",
     "output_type": "stream",
     "text": [
      "Defaulting to user installation because normal site-packages is not writeable\n",
      "Requirement already satisfied: pyscf in /home/atranter/.local/lib/python3.9/site-packages (2.1.1)\n",
      "Requirement already satisfied: scipy!=1.5.0,!=1.5.1 in /home/atranter/.local/lib/python3.9/site-packages (from pyscf) (1.9.3)\n",
      "Requirement already satisfied: h5py>=2.7 in /home/atranter/.local/lib/python3.9/site-packages (from pyscf) (3.7.0)\n",
      "Requirement already satisfied: numpy!=1.16,!=1.17,>=1.13 in /home/atranter/.local/lib/python3.9/site-packages (from pyscf) (1.23.5)\n"
     ]
    }
   ],
   "source": [
    "import sys\n",
    "!{sys.executable} -m pip install pyscf\n",
    "import pyscf"
   ]
  },
  {
   "cell_type": "markdown",
   "id": "f560b339",
   "metadata": {},
   "source": [
    "We first need to tell PySCF what molecule we're interested in.  See if you can figure out what the two lines below mean:"
   ]
  },
  {
   "cell_type": "code",
   "execution_count": 2,
   "id": "952a2129",
   "metadata": {},
   "outputs": [],
   "source": [
    "geometry = 'H 0. 0. 0.; H 0. 0. 0.714'\n",
    "basis = 'STO-3G'"
   ]
  },
  {
   "cell_type": "markdown",
   "id": "850fcaf4",
   "metadata": {},
   "source": [
    "Now we'll create the PySCF object which represents the molecule (don't ask us why the parameter is called \"atom\" instead of \"molecule)."
   ]
  },
  {
   "cell_type": "code",
   "execution_count": 3,
   "id": "1322cca5",
   "metadata": {},
   "outputs": [],
   "source": [
    "molecule = pyscf.gto.M(atom = geometry, basis = basis)"
   ]
  },
  {
   "cell_type": "markdown",
   "id": "38b94ac0",
   "metadata": {},
   "source": [
    "This is all we'll need to be able to run a simple Hartree-Fock calculation.  Of course, there are many options to tweak how the process will run, but we'll ignore them for now.  To run Hartree-Fock, we create an scf.RHF object and then use the kernel method to get the energy (in Hartrees):"
   ]
  },
  {
   "cell_type": "code",
   "execution_count": 4,
   "id": "9222cf8e",
   "metadata": {},
   "outputs": [
    {
     "name": "stdout",
     "output_type": "stream",
     "text": [
      "converged SCF energy = -1.11750269105473\n",
      "-1.11750269105473\n"
     ]
    }
   ],
   "source": [
    "hartree_fock = pyscf.scf.RHF(molecule)\n",
    "hf_energy = hartree_fock.kernel()\n",
    "print(hf_energy)"
   ]
  },
  {
   "cell_type": "markdown",
   "id": "49763500",
   "metadata": {},
   "source": [
    "## Full configuration interaction with PySCF\n",
    "\n",
    "As we discussed in the lectures, Hartree-Fock is only one of many computational methods in chemistry to estimate the ground state energy of the electrons in a molecule.  There is typically a trade-off between the accuracy of the method, and the computational difficulty (though perhaps not the conceptual difficulty!).  \n",
    "\n",
    "In later lectures, we'll cover the Full Configuration Interaction method.  This is at the extreme end of the difficulty vs. accuracy method -- it is in fact an exact diagonalization of the electronic Hamiltonian.  As such, it is numerically exact, but exponentially hard (if it were not exponentially hard, we wouldn't need quantum computers and we'd be out of a job).  Due to the computational difficulty, it is not used much in earnest, but for small systems can be used as a benchmark for testing how accurate a computational method is.\n",
    "\n",
    "As we'll come on to in later lectures, FCI requires a *reference state* to start from.  This is an approximate solution to the ground state.  In this instance, we can use our Hartree-Fock solution:"
   ]
  },
  {
   "cell_type": "code",
   "execution_count": 7,
   "id": "9dbaba72",
   "metadata": {},
   "outputs": [],
   "source": [
    "from pyscf import fci\n",
    "full_configuration_interaction = pyscf.fci.FCI(hartree_fock)"
   ]
  },
  {
   "cell_type": "markdown",
   "id": "840a611e",
   "metadata": {},
   "source": [
    "Now we can just tell PySCF to run the FCI algorithm:"
   ]
  },
  {
   "cell_type": "code",
   "execution_count": 8,
   "id": "0768098f",
   "metadata": {},
   "outputs": [
    {
     "name": "stdout",
     "output_type": "stream",
     "text": [
      "-1.1369181758408105\n"
     ]
    }
   ],
   "source": [
    "full_configuration_interaction.run()\n",
    "fci_energy = full_configuration_interaction.kernel()[0]\n",
    "print(fci_energy)"
   ]
  },
  {
   "cell_type": "markdown",
   "id": "1d4328bf",
   "metadata": {},
   "source": [
    "We know that the FCI energy is exact.  So if we compare our Hartree-Fock energy against our FCI energy, we obtain the error caused by the approximations made in the Hartree-Fock procedure.  "
   ]
  },
  {
   "cell_type": "code",
   "execution_count": 9,
   "id": "4dd0f8f4",
   "metadata": {},
   "outputs": [
    {
     "name": "stdout",
     "output_type": "stream",
     "text": [
      "-0.01941548478608035\n"
     ]
    }
   ],
   "source": [
    "print(fci_energy-hf_energy)"
   ]
  },
  {
   "cell_type": "markdown",
   "id": "8d423569",
   "metadata": {},
   "source": [
    "Note how the FCI energy is lower than the HF energy, in agreement with the variational principle.  Also note that the error is actually quite small - it is common in chemistry for the error incurred by approximation to be maybe ~1% of the full energy, although this is very system dependent.  The danger is that these small errors can easily become large errors when propagated through a successor calculation."
   ]
  },
  {
   "cell_type": "code",
   "execution_count": null,
   "id": "088ceffd",
   "metadata": {},
   "outputs": [],
   "source": []
  }
 ],
 "metadata": {
  "kernelspec": {
   "display_name": "Python 3 (ipykernel)",
   "language": "python",
   "name": "python3"
  },
  "language_info": {
   "codemirror_mode": {
    "name": "ipython",
    "version": 3
   },
   "file_extension": ".py",
   "mimetype": "text/x-python",
   "name": "python",
   "nbconvert_exporter": "python",
   "pygments_lexer": "ipython3",
   "version": "3.9.2"
  }
 },
 "nbformat": 4,
 "nbformat_minor": 5
}
